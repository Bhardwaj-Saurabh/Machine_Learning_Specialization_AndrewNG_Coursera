{
 "cells": [
  {
   "cell_type": "markdown",
   "id": "opening-taylor",
   "metadata": {},
   "source": [
    "# Ungraded Lab:  Logistic Regression using Scikit-Learn\n",
    "\n",
    "Now that you've implemented logistic regression from scratch, let's see you can train a logistic regression model using scikit-learn.\n",
    "\n",
    "## Dataset \n",
    "Let's start with the same dataset as before."
   ]
  },
  {
   "cell_type": "code",
   "execution_count": 20,
   "id": "arctic-revolution",
   "metadata": {},
   "outputs": [],
   "source": [
    "import numpy as np\n",
    "\n",
    "X = np.array([[0.5, 1.5], [1,1], [1.5, 0.5], [3, 0.5], [2, 2], [1, 2.5]])\n",
    "y = np.array([0, 0, 0, 1, 1, 1])"
   ]
  },
  {
   "cell_type": "markdown",
   "id": "burning-peoples",
   "metadata": {},
   "source": [
    "## Fit the model\n",
    "\n",
    "The code below imports the [logistic regression model](https://scikit-learn.org/stable/modules/generated/sklearn.linear_model.LogisticRegression.html#sklearn.linear_model.LogisticRegression) from scikit-learn. You can fit this model on the training data by calling `fit` function."
   ]
  },
  {
   "cell_type": "code",
   "execution_count": 21,
   "id": "automotive-compound",
   "metadata": {},
   "outputs": [
    {
     "data": {
      "text/plain": [
       "LogisticRegression()"
      ]
     },
     "execution_count": 21,
     "metadata": {},
     "output_type": "execute_result"
    }
   ],
   "source": [
    "from sklearn.linear_model import LogisticRegression\n",
    "\n",
    "lr_model = LogisticRegression()\n",
    "lr_model.fit(X, y)"
   ]
  },
  {
   "cell_type": "markdown",
   "id": "shaped-measurement",
   "metadata": {},
   "source": [
    "## Make Predictions\n",
    "\n",
    "You can see the predictions made by this model by calling the `predict` function."
   ]
  },
  {
   "cell_type": "code",
   "execution_count": 22,
   "id": "aware-coverage",
   "metadata": {},
   "outputs": [
    {
     "name": "stdout",
     "output_type": "stream",
     "text": [
      "Prediction on training set: [0 0 0 1 1 1]\n"
     ]
    }
   ],
   "source": [
    "y_pred = lr_model.predict(X)\n",
    "\n",
    "print(\"Prediction on training set:\", y_pred)"
   ]
  },
  {
   "cell_type": "markdown",
   "id": "headed-wells",
   "metadata": {},
   "source": [
    "## Calculate accuracy\n",
    "\n",
    "You can calculate this accuracy of this model by calling the `score` function."
   ]
  },
  {
   "cell_type": "code",
   "execution_count": 23,
   "id": "motivated-barcelona",
   "metadata": {},
   "outputs": [
    {
     "name": "stdout",
     "output_type": "stream",
     "text": [
      "Accuracy on training set: 1.0\n"
     ]
    }
   ],
   "source": [
    "print(\"Accuracy on training set:\", lr_model.score(X, y))"
   ]
  }
 ],
 "metadata": {
  "kernelspec": {
   "display_name": "Python 3",
   "language": "python",
   "name": "python3"
  },
  "language_info": {
   "codemirror_mode": {
    "name": "ipython",
    "version": 3
   },
   "file_extension": ".py",
   "mimetype": "text/x-python",
   "name": "python",
   "nbconvert_exporter": "python",
   "pygments_lexer": "ipython3",
   "version": "3.9.1"
  }
 },
 "nbformat": 4,
 "nbformat_minor": 5
}
